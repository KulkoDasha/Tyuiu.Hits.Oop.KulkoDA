{
 "cells": [
  {
   "cell_type": "markdown",
   "metadata": {},
   "source": [
    "<h1 style=\"color:DodgerBlue\">Создание экземпляров классов (объектов) и взаимодействие объектов между собой</h1>"
   ]
  },
  {
   "cell_type": "markdown",
   "metadata": {},
   "source": [
    "### Создание экземпляров классов (объектов)\n",
    "\n",
    "В C#, экземпляр класса создается с помощью оператора `new`, который выделяет память для нового объекта и вызывает конструктор класса для инициализации этого объекта. Конструктор — это специальный метод в классе, который имеет то же имя, что и класс, и используется для установки начального состояния объекта.\n",
    "\n",
    "#### Пример создания экземпляров классов Vehicle и Car\n",
    "\n",
    "```csharp\n",
    "Vehicle myVehicle = new Vehicle();\n",
    "Car myCar = new Car();\n",
    "```\n",
    "\n",
    "В этом примере создаются два объекта: один для класса `Vehicle` и другой для класса `Car`. Конструкторы этих классов будут автоматически вызваны при создании объектов.\n",
    "\n",
    "### Взаимодействие объектов между Собой\n",
    "\n",
    "Взаимодействие объектов между собой означает, что один объект может вызывать методы другого объекта или обращаться к его свойствам (если они доступны). Это позволяет объектам обмениваться информацией и координировать свои действия.\n",
    "\n",
    "#### Пример взаимодействия объектов\n",
    "\n",
    "```csharp\n",
    "myVehicle.Color = \"Red\";\n",
    "myVehicle.Speed = 60;\n",
    "\n",
    "myCar.Color = \"Blue\";\n",
    "myCar.FuelLevel = 100;\n",
    "myCar.Refuel(50); // Увеличиваем уровень топлива на 50\n",
    "```\n",
    "\n",
    "В этом примере мы устанавливаем свойства `Color` и `Speed` для объекта `myVehicle`, а также свойства `Color` и `FuelLevel` для объекта `myCar`. Затем мы вызываем метод `Refuel` у объекта `myCar`, чтобы увеличить его уровень топлива.\n",
    "\n",
    "### Закрепление правил использования модификаторов доступа\n",
    "\n",
    "Модификаторы доступа определяют уровень доступности членов класса из других частей кода. Важно правильно использовать модификаторы доступа для обеспечения безопасности и инкапсуляции данных.\n",
    "\n",
    "#### Примеры модификаторов доступа в классах Vehicle и Car\n",
    "\n",
    "```csharp\n",
    "public class Vehicle\n",
    "{\n",
    "    public string Color { get; set; } // public свойство\n",
    "    private int speed; // private поле\n",
    "\n",
    "    protected void SetSpeed(int value) // protected метод\n",
    "    {\n",
    "        speed = value;\n",
    "    }\n",
    "}\n",
    "\n",
    "public class Car : Vehicle\n",
    "{\n",
    "    private int fuelLevel; // private поле\n",
    "\n",
    "    public void Refuel(int amount) // public метод\n",
    "    {\n",
    "        fuelLevel += amount;\n",
    "    }\n",
    "\n",
    "    protected void CheckSpeedLimit() // protected метод\n",
    "    {\n",
    "        if (speed > 120)\n",
    "        {\n",
    "            Console.WriteLine(\"Превышен скоростной режим!\");\n",
    "        }\n",
    "    }\n",
    "}\n",
    "```\n",
    "\n",
    "В этом примере:\n",
    "- Свойство `Color` в классе `Vehicle` объявлено как `public`, что позволяет доступ к нему из любого места в коде.\n",
    "- Поле `speed` в классе `Vehicle` объявлено как `private`, что ограничивает доступ к нему только внутри класса `Vehicle`.\n",
    "- Метод `SetSpeed` в классе `Vehicle` объявлен как `protected`, что позволяет доступ к нему из класса `Vehicle` и его производных классов.\n",
    "- Поле `fuelLevel` в классе `Car` объявлено как `private`, ограничивая доступ к нему только внутри класса `Car`.\n",
    "- Методы `Refuel` и `CheckSpeedLimit` в классе `Car` демонстрируют использование модификаторов доступа для контроля над тем, как объекты могут взаимодействовать друг с другом.\n",
    "\n",
    "### Заключение\n",
    "\n",
    "Создание экземпляров классов и взаимодействие между объектами являются ключевыми аспектами объектно-ориентированного программирования в C#. Правильное использование модификаторов доступа обеспечивает безопасность данных и инкапсуляцию, позволяя разработчикам создавать более надежные и управляемые программы."
   ]
  },
  {
   "cell_type": "markdown",
   "metadata": {},
   "source": [
    "<h4 style=\"color:DodgerBlue\">Для проверки напишите пример кода на основе классов Car и Vehicle ниже в блоке:</h4>\n",
    "\n",
    "----"
   ]
  },
  {
   "cell_type": "code",
   "execution_count": 6,
   "metadata": {
    "dotnet_interactive": {
     "language": "csharp"
    },
    "polyglot_notebook": {
     "kernelName": "csharp"
    }
   },
   "outputs": [
    {
     "name": "stdout",
     "output_type": "stream",
     "text": [
      "Транспорт двигается со скоростью:60 км/ч\n",
      "Цвет транспорта: Красный\n",
      "Автомобиль двигается со скоростью:40 км/ч\n",
      "Цвет транспорта: Синий\n"
     ]
    }
   ],
   "source": [
    "public interface IMove\n",
    "{\n",
    "    void Move();\n",
    "}\n",
    "public interface IColor\n",
    "{\n",
    "    void SColor();\n",
    "}\n",
    "public class Vehicle: IMove,IColor\n",
    "{\n",
    "    public string Color{get;set;}\n",
    "    public int Speed{get;set;}\n",
    "    public Vehicle(int speed)\n",
    "    {\n",
    "        Speed=speed;\n",
    "    }\n",
    "    public void Move()\n",
    "    {\n",
    "        Console.WriteLine($\"Транспорт двигается со скоростью:{Speed} км/ч\");\n",
    "    }\n",
    "    public void SColor()\n",
    "    {\n",
    "        Console.WriteLine($\"Цвет транспорта: {Color}\");\n",
    "    }\n",
    "}\n",
    "public class Car : Vehicle,IMove,IColor\n",
    "{\n",
    "    public new string Color{get;set;}\n",
    "    public Car(int speed): base(speed)\n",
    "    {\n",
    "\n",
    "    }\n",
    "    public new void Move()\n",
    "    {\n",
    "        Console.WriteLine($\"Автомобиль двигается со скоростью:{Speed} км/ч\");\n",
    "    }\n",
    "    public new void SColor()\n",
    "    {\n",
    "        Console.WriteLine($\"Цвет транспорта: {Color}\");\n",
    "    }\n",
    "}\n",
    "Vehicle myVehicle = new Vehicle(60);\n",
    "Car myCar = new Car(40);\n",
    "myVehicle.Move();\n",
    "myVehicle.Color = \"Красный\";\n",
    "myVehicle.SColor();\n",
    "myCar.Move();\n",
    "myCar.Color = \"Синий\";\n",
    "myCar.SColor();"
   ]
  },
  {
   "cell_type": "markdown",
   "metadata": {},
   "source": [
    "<h4 style=\"color:Red\">Задание:</h4>\n",
    "\n",
    "----\n",
    "\n",
    "Ниже в блоке по примеру создайте базовый класс Animal и производные классы (2-3 например Dog, Cat и так далее) реализуйте структуру и объявление класса, включая свойства, геттеры и сеттеры, а также статические и обычными атрибуты и метода класса с реализацией взаимодействия между объектами."
   ]
  },
  {
   "cell_type": "code",
   "execution_count": 8,
   "metadata": {
    "dotnet_interactive": {
     "language": "csharp"
    },
    "polyglot_notebook": {
     "kernelName": "csharp"
    }
   },
   "outputs": [
    {
     "name": "stdout",
     "output_type": "stream",
     "text": [
      "Животное: Лев\n",
      "Цвет животного: Желтый\n",
      "Животное: Кошка\n",
      "Цвет животного: Серый\n",
      "Порода кошки: Шотландская вислоухая\n",
      "Возраст кошки: 5\n",
      "Животное: Собака\n",
      "Цвет животного: Черный\n",
      "Порода собаки: Немецкая овчарка\n",
      "Возраст собаки: 3\n",
      "Всего животных: 3\n"
     ]
    }
   ],
   "source": [
    "public interface IClass\n",
    "{\n",
    "    void Class();\n",
    "}\n",
    "public class Animal: IClass\n",
    "{\n",
    "    public static int Count;\n",
    "    public string Color_Name{get;set;}\n",
    "    public string Clas{get;set;}\n",
    "    public Animal(string color, string clas)\n",
    "    {\n",
    "        Color_Name = color;\n",
    "        Clas = clas;\n",
    "    }\n",
    "    public void Color()\n",
    "    {\n",
    "        Console.WriteLine($\"Цвет животного: {Color_Name}\");\n",
    "    }\n",
    "    public void Class()\n",
    "    {\n",
    "        Console.WriteLine($\"Животное: {Clas}\");\n",
    "        Count++;\n",
    "    }\n",
    "}\n",
    "public class Cat: Animal\n",
    "{\n",
    "    public string Breed{get;set;}\n",
    "    public int Age{get;set;}\n",
    "    public Cat(string color,string clas,string breed,int age): base(color,clas)\n",
    "    {\n",
    "        Age = age;\n",
    "        Breed = breed;\n",
    "    }\n",
    "    public void FAge()\n",
    "    {\n",
    "        Console.WriteLine($\"Возраст кошки: {Age}\");\n",
    "    }\n",
    "    public void FBreed()\n",
    "    {\n",
    "        Console.WriteLine($\"Порода кошки: {Breed}\");\n",
    "    }\n",
    "\n",
    "}\n",
    "public class Dog: Animal\n",
    "{\n",
    "    public string Breed{get;set;}\n",
    "    public int Age{get;set;}\n",
    "    public Dog(string color,string clas,string breed,int age): base(color,clas)\n",
    "    {\n",
    "        Age = age;\n",
    "        Breed = breed;\n",
    "    }\n",
    "    public void FAge()\n",
    "    {\n",
    "        Console.WriteLine($\"Возраст собаки: {Age}\");\n",
    "    }\n",
    "    public void FBreed()\n",
    "    {\n",
    "        Console.WriteLine($\"Порода собаки: {Breed}\");\n",
    "    }\n",
    "}\n",
    "Animal Lion = new Animal(\"Желтый\",\"Лев\");\n",
    "Lion.Class();\n",
    "Lion.Color();\n",
    "Cat MyCat = new Cat(\"Серый\",\"Кошка\",\"Шотландская вислоухая\",5);\n",
    "MyCat.Class();\n",
    "MyCat.Color();\n",
    "MyCat.FBreed();\n",
    "MyCat.FAge();\n",
    "Dog MyDog = new Dog(\"Черный\",\"Собака\",\"Немецкая овчарка\",3);\n",
    "MyDog.Class();\n",
    "MyDog.Color();\n",
    "MyDog.FBreed();\n",
    "MyDog.FAge();\n",
    "Console.WriteLine($\"Всего животных: {Animal.Count}\");"
   ]
  }
 ],
 "metadata": {
  "kernelspec": {
   "display_name": ".NET (C#)",
   "language": "C#",
   "name": ".net-csharp"
  },
  "polyglot_notebook": {
   "kernelInfo": {
    "defaultKernelName": "csharp",
    "items": [
     {
      "aliases": [],
      "languageName": "csharp",
      "name": "csharp"
     }
    ]
   }
  }
 },
 "nbformat": 4,
 "nbformat_minor": 2
}
