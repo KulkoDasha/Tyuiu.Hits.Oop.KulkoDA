{
 "cells": [
  {
   "cell_type": "markdown",
   "metadata": {},
   "source": [
    "<h1 style=\"color:DodgerBlue\">Индивидальный проект</h1>"
   ]
  },
  {
   "cell_type": "markdown",
   "metadata": {},
   "source": [
    "<h2 style=\"color:DodgerBlue\">Название проекта:</h2>\n",
    "\n",
    "----\n",
    "\n",
    "### Вариант задания 15\n"
   ]
  },
  {
   "cell_type": "markdown",
   "metadata": {},
   "source": [
    "<h2 style=\"color:DodgerBlue\">Описание проекта:</h2>\n",
    "\n",
    "----\n",
    "\n",
    "Создать базовый класс OrderLine в C#, который будет представлять информацию о\n",
    "строке заказа, содержащей детали одного товара в заказе. На основе этого класса\n",
    "разработать 2-3 производных класса, демонстрирующих принципы наследования и\n",
    "полиморфизма. В каждом из классов должны быть реализованы новые атрибуты и\n",
    "методы, а также переопределены некоторые методы базового класса для\n",
    "демонстрации полиморфизма.\n",
    "\n",
    "Требования к базовому классу OrderLine:\n",
    "• Атрибуты: ID товара (ProductId), Название товара (ProductName), Цена\n",
    "товара (Price).\n",
    "• Методы:\n",
    "o\n",
    "o CalculateTotal(): метод для расчета общей стоимости строки заказа.\n",
    "o UpdatePrice(decimal newPrice): метод для обновления цены товара в\n",
    "строке заказа.\n",
    "o GetProductDetails(): метод для получения деталей товара.\n",
    "\n",
    "Требования к производным классам:\n",
    "1. СтандартнаяСтрока (StandardLine): Должна содержать дополнительные\n",
    "атрибуты, такие как Количество единиц (Units). Метод CalculateTotal() должен\n",
    "быть переопределен для учета количества единиц при расчете общей\n",
    "стоимости.\n",
    "2. СпециальнаяСтрока (SpecialLine): Должна содержать дополнительные\n",
    "атрибуты, такие как Скидка (Discount). Метод UpdatePrice() должен быть\n",
    "переопределен для применения скидки к цене товара.\n",
    "3. БесплатнаяСтрока (FreeLine) (если требуется третий класс): Должна\n",
    "содержать дополнительные атрибуты, такие как Предварительный платеж\n",
    "(Prepayment). Метод CalculateTotal() должен быть переопределен для учета\n",
    "предварительного плата при расчете общей стоимости.\n"
   ]
  },
  {
   "cell_type": "markdown",
   "metadata": {},
   "source": [
    "<h2 style=\"color:DodgerBlue\">Реализация:</h2>\n",
    "\n",
    "----"
   ]
  },
  {
   "cell_type": "code",
   "execution_count": 18,
   "metadata": {
    "dotnet_interactive": {
     "language": "csharp"
    },
    "polyglot_notebook": {
     "kernelName": "csharp"
    }
   },
   "outputs": [
    {
     "name": "stdout",
     "output_type": "stream",
     "text": [
      "Общая стоимость заказа: 10\n",
      "Новая цена: 15\n",
      "Id товара: i12332, Название товара: Игрушка, Цена: 15\n",
      "Количество единиц товара:10. Общая стоимость: 100\n",
      "Скидка:40%. Цена товара со скидкой: 4\n",
      "Предварительный платеж:5 Оставшаяся сумма: 5\n"
     ]
    }
   ],
   "source": [
    "using System;\n",
    "public class OrderLine\n",
    "{    \n",
    "    public string ProductId { get; set; }\n",
    "    public string ProductName { get; set; }\n",
    "    public decimal Price { get; set; }\n",
    "    public OrderLine(string productid,string productname,decimal price)\n",
    "    {\n",
    "        ProductId=productid;\n",
    "        ProductName=productname;\n",
    "        Price=price;\n",
    "    }\n",
    "    public void CalculateTotal()\n",
    "    {\n",
    "        Console.WriteLine($\"Общая стоимость заказа: {Price}\");\n",
    "    }\n",
    "    public void UpdatePrice(decimal newPrice)\n",
    "    {\n",
    "        this.Price = newPrice;\n",
    "        Console.WriteLine($\"Новая цена: {newPrice}\");\n",
    "    }\n",
    "    public void GetProductDetails()\n",
    "    {\n",
    "        Console.WriteLine( $\"Id товара: {ProductId}, Название товара: {ProductName}, Цена: {Price}\");\n",
    "    }\n",
    "}\n",
    "public class StandardLine: OrderLine\n",
    "{\n",
    "    public int Units{get;set;}\n",
    "    public StandardLine(string productid,string productname,decimal price,int units) : base(productid,productname,price)\n",
    "    {\n",
    "        Units = units;\n",
    "    }\n",
    "    public void CalculateTotal()\n",
    "    {\n",
    "        Console.WriteLine($\"Количество единиц товара:{Units}. Общая стоимость: {Units*Price}\");\n",
    "    }\n",
    "}\n",
    "public class SpecialLine: OrderLine\n",
    "{\n",
    "    public int Discount{get;set;}\n",
    "    public SpecialLine(string productid,string productname,decimal price,int discount): base(productid,productname,price)\n",
    "    {\n",
    "        Discount = discount;\n",
    "    }\n",
    "    public void UpdatePrice()\n",
    "    {\n",
    "        Console.WriteLine($\"Скидка:{Discount}%. Цена товара со скидкой: {Price = (Price*Discount)/100}\"); \n",
    "    }\n",
    "}\n",
    "public class FreeLine: OrderLine\n",
    "{\n",
    "    public int Prepayment{get;set;}\n",
    "    public FreeLine(string productid,string productname,decimal price,int prepayment): base(productid,productname,price)\n",
    "    {\n",
    "        Prepayment = prepayment;\n",
    "    }\n",
    "    public void CalculateTotal()\n",
    "    {\n",
    "        Console.WriteLine($\"Предварительный платеж:{Prepayment} Оставшаяся сумма: {Price-Prepayment}\");\n",
    "    }\n",
    "}\n",
    "OrderLine ProductId,ProductName,Price = new OrderLine(\"i12332\",\"Игрушка\",10);\n",
    "Price.CalculateTotal();\n",
    "Price.UpdatePrice(15);\n",
    "Price.GetProductDetails();\n",
    "StandardLine Units = new StandardLine(\"i12332\",\"Игрушка\",10,10);\n",
    "Units.CalculateTotal();\n",
    "SpecialLine Discount = new SpecialLine(\"i12332\",\"Игрушка\",10,40);\n",
    "Discount.UpdatePrice();\n",
    "FreeLine Prepayment = new FreeLine(\"i12332\",\"Игрушка\",10,5);\n",
    "Prepayment.CalculateTotal();"
   ]
  }
 ],
 "metadata": {
  "kernelspec": {
   "display_name": ".NET (C#)",
   "language": "C#",
   "name": ".net-csharp"
  },
  "polyglot_notebook": {
   "kernelInfo": {
    "defaultKernelName": "csharp",
    "items": [
     {
      "aliases": [],
      "languageName": "csharp",
      "name": "csharp"
     }
    ]
   }
  }
 },
 "nbformat": 4,
 "nbformat_minor": 2
}
