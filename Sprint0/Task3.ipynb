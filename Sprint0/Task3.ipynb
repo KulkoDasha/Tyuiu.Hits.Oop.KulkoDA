{
 "cells": [
  {
   "cell_type": "markdown",
   "metadata": {},
   "source": [
    "<h1 style=\"color:DodgerBlue\">Индивидальный проект</h1>"
   ]
  },
  {
   "cell_type": "markdown",
   "metadata": {},
   "source": [
    "<h2 style=\"color:DodgerBlue\">Название проекта:</h2>\n",
    "\n",
    "----\n",
    "\n",
    "### Вариант задания 15\n"
   ]
  },
  {
   "cell_type": "markdown",
   "metadata": {},
   "source": [
    "<h2 style=\"color:DodgerBlue\">Описание проекта:</h2>\n",
    "\n",
    "----\n",
    "\n",
    "Создать базовый класс OrderLine в C#, который будет представлять информацию о\n",
    "строке заказа, содержащей детали одного товара в заказе. На основе этого класса\n",
    "разработать 2-3 производных класса, демонстрирующих принципы наследования и\n",
    "полиморфизма. В каждом из классов должны быть реализованы новые атрибуты и\n",
    "методы, а также переопределены некоторые методы базового класса для\n",
    "демонстрации полиморфизма.\n",
    "\n",
    "Требования к базовому классу OrderLine:\n",
    "• Атрибуты: ID товара (ProductId), Название товара (ProductName), Цена\n",
    "товара (Price).\n",
    "• Методы:\n",
    "o\n",
    "o CalculateTotal(): метод для расчета общей стоимости строки заказа.\n",
    "o UpdatePrice(decimal newPrice): метод для обновления цены товара в\n",
    "строке заказа.\n",
    "o GetProductDetails(): метод для получения деталей товара.\n",
    "\n",
    "Требования к производным классам:\n",
    "1. СтандартнаяСтрока (StandardLine): Должна содержать дополнительные\n",
    "атрибуты, такие как Количество единиц (Units). Метод CalculateTotal() должен\n",
    "быть переопределен для учета количества единиц при расчете общей\n",
    "стоимости.\n",
    "2. СпециальнаяСтрока (SpecialLine): Должна содержать дополнительные\n",
    "атрибуты, такие как Скидка (Discount). Метод UpdatePrice() должен быть\n",
    "переопределен для применения скидки к цене товара.\n",
    "3. БесплатнаяСтрока (FreeLine) (если требуется третий класс): Должна\n",
    "содержать дополнительные атрибуты, такие как Предварительный платеж\n",
    "(Prepayment). Метод CalculateTotal() должен быть переопределен для учета\n",
    "предварительного плата при расчете общей стоимости.\n"
   ]
  },
  {
   "cell_type": "markdown",
   "metadata": {},
   "source": [
    "<h2 style=\"color:DodgerBlue\">Реализация:</h2>\n",
    "\n",
    "----"
   ]
  },
  {
   "cell_type": "code",
   "execution_count": null,
   "metadata": {
    "dotnet_interactive": {
     "language": "csharp"
    },
    "polyglot_notebook": {
     "kernelName": "csharp"
    }
   },
   "outputs": [
    {
     "ename": "Error",
     "evalue": "(45,27): error CS7036: Отсутствует аргумент, соответствующий требуемому параметру \"ProductName\" из \"OrderLine.OrderLine(string, string, int)\".\r\n(37,14): error CS7036: Отсутствует аргумент, соответствующий требуемому параметру \"ProductId\" из \"OrderLine.OrderLine(string, string, int)\".\r\n(21,14): error CS7036: Отсутствует аргумент, соответствующий требуемому параметру \"ProductId\" из \"OrderLine.OrderLine(string, string, int)\".\r\n(29,14): error CS7036: Отсутствует аргумент, соответствующий требуемому параметру \"ProductId\" из \"OrderLine.OrderLine(string, string, int)\".",
     "output_type": "error",
     "traceback": [
      "(45,27): error CS7036: Отсутствует аргумент, соответствующий требуемому параметру \"ProductName\" из \"OrderLine.OrderLine(string, string, int)\".\r\n",
      "(37,14): error CS7036: Отсутствует аргумент, соответствующий требуемому параметру \"ProductId\" из \"OrderLine.OrderLine(string, string, int)\".\r\n",
      "(21,14): error CS7036: Отсутствует аргумент, соответствующий требуемому параметру \"ProductId\" из \"OrderLine.OrderLine(string, string, int)\".\r\n",
      "(29,14): error CS7036: Отсутствует аргумент, соответствующий требуемому параметру \"ProductId\" из \"OrderLine.OrderLine(string, string, int)\"."
     ]
    }
   ],
   "source": [
    "public class OrderLine\n",
    "{    \n",
    "    public string ProductId { get; set; }\n",
    "    public string ProductName { get; set; }\n",
    "    public int Price { get; set; }\n",
    "    public virtual int CalculateTotal()\n",
    "    {\n",
    "        return Price;\n",
    "    }\n",
    "    public virtual void UpdatePrice(int Price)\n",
    "    {\n",
    "        this.Price = Price;\n",
    "    }\n",
    "    public string GetProductDetails()\n",
    "    {\n",
    "        return $\"Id товара: {ProductId}, Название товара: {ProductName}, Цена: {Price}\";\n",
    "    }\n",
    "}\n",
    "public class StandardLine: OrderLine\n",
    "{\n",
    "    public int Units{get;set;}\n",
    "    public override int CalculateTotal()\n",
    "    {\n",
    "        return Units;\n",
    "    }\n",
    "}\n",
    "public class SpecialLine: OrderLine\n",
    "{\n",
    "    public int Discount{get;set;}\n",
    "    public override void UpdatePrice(int Discount)\n",
    "    {\n",
    "        this.Price = (Price*Discount)/100; \n",
    "    }\n",
    "}\n",
    "public class freeLine: OrderLine\n",
    "{\n",
    "    public int Prepayment;\n",
    "    public override int CalculateTotal()\n",
    "    {\n",
    "        return Price-Prepayment;\n",
    "    }\n",
    "}\n",
    "OrderLine ProductId = new OrderLine();"
   ]
  },
  {
   "cell_type": "code",
   "execution_count": null,
   "metadata": {
    "language_info": {
     "name": "polyglot-notebook"
    },
    "polyglot_notebook": {
     "kernelName": "csharp"
    }
   },
   "outputs": [],
   "source": []
  }
 ],
 "metadata": {
  "kernelspec": {
   "display_name": ".NET (C#)",
   "language": "C#",
   "name": ".net-csharp"
  },
  "polyglot_notebook": {
   "kernelInfo": {
    "defaultKernelName": "csharp",
    "items": [
     {
      "aliases": [],
      "languageName": "csharp",
      "name": "csharp"
     }
    ]
   }
  }
 },
 "nbformat": 4,
 "nbformat_minor": 2
}
