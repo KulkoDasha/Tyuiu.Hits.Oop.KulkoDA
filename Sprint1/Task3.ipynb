{
 "cells": [
  {
   "cell_type": "markdown",
   "metadata": {},
   "source": [
    "<h1 style=\"color:DodgerBlue\">Индивидальный проект</h1>"
   ]
  },
  {
   "cell_type": "markdown",
   "metadata": {},
   "source": [
    "<h2 style=\"color:DodgerBlue\">Название проекта:</h2>\n",
    "\n",
    "----\n",
    "\n",
    "### Вариант задания \n"
   ]
  },
  {
   "cell_type": "markdown",
   "metadata": {},
   "source": [
    "<h2 style=\"color:DodgerBlue\">Описание проекта:</h2>\n",
    "\n",
    "----\n",
    "\n",
    "[ваш текст]\n",
    "\n",
    "#### Дополнительное задание\n",
    "Добавьте к сущестующим классам конструктора классов с использованием гетторов и сетторов и реализуйте взаимодействие объектов между собой"
   ]
  },
  {
   "cell_type": "markdown",
   "metadata": {},
   "source": [
    "<h2 style=\"color:DodgerBlue\">Реализация:</h2>\n",
    "\n",
    "----"
   ]
  },
  {
   "cell_type": "code",
   "execution_count": 7,
   "metadata": {
    "dotnet_interactive": {
     "language": "csharp"
    },
    "polyglot_notebook": {
     "kernelName": "csharp"
    }
   },
   "outputs": [
    {
     "name": "stdout",
     "output_type": "stream",
     "text": [
      "Общая стоимость заказа: 100\n",
      "Новая цена: 150\n",
      "Id товара: i12332, Название товара: Игрушка, Цена: 150\n",
      "Количество единиц товара:10. Стоимость одной единицы товара: 15\n",
      "Скидка:40%. Цена товара со скидкой: 60\n",
      "Предварительный платеж:5 Оставшаяся сумма: 145\n"
     ]
    }
   ],
   "source": [
    "using System;\n",
    "public class OrderLine\n",
    "{    \n",
    "    public string ProductId { get; set; }\n",
    "    public string ProductName { get; set; }\n",
    "    public decimal Price { get; set; }\n",
    "    public OrderLine(string productid,string productname,decimal price)\n",
    "    {\n",
    "        ProductId=productid;\n",
    "        ProductName=productname;\n",
    "        Price=price;\n",
    "    }\n",
    "    public void CalculateTotal()\n",
    "    {\n",
    "        Console.WriteLine($\"Общая стоимость заказа: {Price}\");\n",
    "    }\n",
    "    public void UpdatePrice(decimal newPrice)\n",
    "    {\n",
    "        Price = newPrice;\n",
    "        Console.WriteLine($\"Новая цена: {newPrice}\");\n",
    "    }\n",
    "    public void GetProductDetails()\n",
    "    {\n",
    "        Console.WriteLine( $\"Id товара: {ProductId}, Название товара: {ProductName}, Цена: {Price}\");\n",
    "    }\n",
    "}\n",
    "public class StandardLine: OrderLine\n",
    "{\n",
    "    public int Units{get;set;}\n",
    "    public StandardLine(string productid,string productname,decimal price,int units) : base(productid,productname,price)\n",
    "    {\n",
    "        Units = units;\n",
    "    }\n",
    "    public new void CalculateTotal()\n",
    "    {\n",
    "        Console.WriteLine($\"Количество единиц товара:{Units}. Стоимость одной единицы товара: {Math.Round(Price/Units)}\");\n",
    "    }\n",
    "}\n",
    "public class SpecialLine: OrderLine\n",
    "{\n",
    "    public int Discount{get;set;}\n",
    "    public SpecialLine(string productid,string productname,decimal price,int discount): base(productid,productname,price)\n",
    "    {\n",
    "        Discount = discount;\n",
    "    }\n",
    "    public void UpdatePrice()\n",
    "    {\n",
    "        Console.WriteLine($\"Скидка:{Discount}%. Цена товара со скидкой: {Price = (Price*Discount)/100}\"); \n",
    "    }\n",
    "}\n",
    "public class FreeLine: OrderLine\n",
    "{\n",
    "    public int Prepayment{get;set;}\n",
    "    public FreeLine(string productid,string productname,decimal price,int prepayment): base(productid,productname,price)\n",
    "    {\n",
    "        Prepayment = prepayment;\n",
    "    }\n",
    "    public new void CalculateTotal()\n",
    "    {\n",
    "        Console.WriteLine($\"Предварительный платеж:{Prepayment} Оставшаяся сумма: {Price-Prepayment}\");\n",
    "    }\n",
    "}\n",
    "OrderLine ProductId,ProductName,Price = new OrderLine(\"i12332\",\"Игрушка\",100);\n",
    "Price.CalculateTotal();\n",
    "Price.UpdatePrice(150);\n",
    "Price.GetProductDetails();\n",
    "StandardLine Units = new StandardLine(\"i12332\",\"Игрушка\",150,10);\n",
    "Units.CalculateTotal();\n",
    "SpecialLine Discount = new SpecialLine(\"i12332\",\"Игрушка\",150,40);\n",
    "Discount.UpdatePrice();\n",
    "FreeLine Prepayment = new FreeLine(\"i12332\",\"Игрушка\",150,5);\n",
    "Prepayment.CalculateTotal();"
   ]
  }
 ],
 "metadata": {
  "kernelspec": {
   "display_name": ".NET (C#)",
   "language": "C#",
   "name": ".net-csharp"
  },
  "polyglot_notebook": {
   "kernelInfo": {
    "defaultKernelName": "csharp",
    "items": [
     {
      "aliases": [],
      "languageName": "csharp",
      "name": "csharp"
     }
    ]
   }
  }
 },
 "nbformat": 4,
 "nbformat_minor": 2
}
