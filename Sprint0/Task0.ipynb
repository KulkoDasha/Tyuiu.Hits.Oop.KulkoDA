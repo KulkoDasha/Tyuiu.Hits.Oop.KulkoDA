{
 "cells": [
  {
   "cell_type": "code",
   "execution_count": null,
   "id": "f62deebf",
   "metadata": {
    "vscode": {
     "languageId": "plaintext"
    }
   },
   "outputs": [],
   "source": [
    "Console.WriteLine(\"!!!\")"
   ]
  }
 ],
 "metadata": {
  "language_info": {
   "name": "python"
  }
 },
 "nbformat": 4,
 "nbformat_minor": 5
}
